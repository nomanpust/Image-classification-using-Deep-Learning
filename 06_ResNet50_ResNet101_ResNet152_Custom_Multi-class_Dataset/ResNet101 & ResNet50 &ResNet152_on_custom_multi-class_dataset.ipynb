{
 "cells": [
  {
   "cell_type": "code",
   "execution_count": null,
   "id": "fa728959-90a7-4914-8de1-a96e4f9b1bd6",
   "metadata": {},
   "outputs": [],
   "source": [
    "# pip install tensorflow matplotlib scipy plotly scikit-learn\n",
    "# pip install --upgrade keras\n",
    "# pip install --upgrade tensorflow\n",
    "# pip install scikit-learn seaborn"
   ]
  },
  {
   "cell_type": "code",
   "execution_count": null,
   "id": "65d18f34-2efe-4ff3-b4f2-7535ad3cc2b0",
   "metadata": {},
   "outputs": [],
   "source": [
    "import tensorflow as tf\n",
    "import numpy as np\n",
    "import matplotlib.pyplot as plt\n",
    "import plotly.express as px\n",
    "from glob import glob\n",
    "from keras.preprocessing import image\n",
    "from tensorflow.keras.applications import ResNet50\n",
    "from tensorflow.keras.applications import ResNet101\n",
    "from tensorflow.keras.applications import ResNet152\n",
    "from tensorflow.keras.models import Model\n",
    "from tensorflow.keras.layers import Dense, Flatten, Dropout, GlobalAveragePooling2D\n",
    "from tensorflow.keras.preprocessing.image import ImageDataGenerator\n",
    "from tensorflow.keras.applications.resnet50 import preprocess_input\n"
   ]
  },
  {
   "cell_type": "code",
   "execution_count": null,
   "id": "a484637f-7b0f-45fb-935b-8a1ae6d8966a",
   "metadata": {},
   "outputs": [],
   "source": [
    "# re-size all the images to this\n",
    "image_size = [224, 224]"
   ]
  },
  {
   "cell_type": "code",
   "execution_count": null,
   "id": "614ccf05-8124-4a66-9522-2ce7a3773600",
   "metadata": {},
   "outputs": [],
   "source": [
    "# Load the ResNet50 model without the top layer\n",
    "resnet = ResNet101(weights=\"imagenet\", include_top=False, input_shape=(224, 224, 3))"
   ]
  },
  {
   "cell_type": "code",
   "execution_count": null,
   "id": "b4afbeff-766d-40cd-8721-36ab3eda921f",
   "metadata": {},
   "outputs": [],
   "source": [
    "# Freeze base model layers to retain pre-trained features\n",
    "for layer in resnet.layers:\n",
    "    layer.trainable = False\n"
   ]
  },
  {
   "cell_type": "code",
   "execution_count": null,
   "id": "f9ebe121-3e7e-4404-8c26-67b1832660e2",
   "metadata": {},
   "outputs": [],
   "source": [
    "# For getting number of output classes\n",
    "folders = glob('flower_dataset/train/*')\n",
    "print(len(folders))"
   ]
  },
  {
   "cell_type": "code",
   "execution_count": null,
   "id": "9356786e-e5fa-41ab-b970-92fea6d360a7",
   "metadata": {},
   "outputs": [],
   "source": [
    "model = tf.keras.Sequential([\n",
    "        tf.keras.layers.Input(shape=(224,224,3)),\n",
    "        data_augmentation,\n",
    "        tf.keras.layers.Lambda(preprocess_input_resnet),\n",
    "        base_model,\n",
    "        tf.keras.layers.GlobalAveragePooling2D(),\n",
    "        tf.keras.layers.Dense(512, activation='relu'),\n",
    "        tf.keras.layers.Dropout(0.5),\n",
    "        tf.keras.layers.Dense(128, activation='relu'),\n",
    "        tf.keras.layers.Dense(4, activation='softmax')\n",
    "    ])\n",
    "\n",
    "model.summary()\n"
   ]
  },
  {
   "cell_type": "code",
   "execution_count": null,
   "id": "546aa226-7371-45d0-867c-d4ba88c82460",
   "metadata": {},
   "outputs": [],
   "source": [
    "# Create the final model\n",
    "model = Model(inputs=resnet.input, outputs=prediction)"
   ]
  },
  {
   "cell_type": "code",
   "execution_count": null,
   "id": "375cac22-3686-4d1d-9be4-924765210c54",
   "metadata": {},
   "outputs": [],
   "source": [
    "# Compile the model\n",
    "model.compile(\n",
    "  loss='categorical_crossentropy',\n",
    "  optimizer='adam',\n",
    "  metrics=['accuracy']\n",
    ")"
   ]
  },
  {
   "cell_type": "code",
   "execution_count": null,
   "id": "b2f27400-67b8-426c-a5de-8d8b8517a242",
   "metadata": {},
   "outputs": [],
   "source": [
    "# model.summary()"
   ]
  },
  {
   "cell_type": "code",
   "execution_count": null,
   "id": "85f541e8-17ad-4606-9883-8d30a1848a97",
   "metadata": {},
   "outputs": [],
   "source": [
    "# Data augmentaion on training data\n",
    "train_datagen = ImageDataGenerator(\n",
    "    rescale=1.0/255,\n",
    "    rotation_range=30,\n",
    "    width_shift_range=0.2,\n",
    "    height_shift_range=0.2,\n",
    "    shear_range=0.2,\n",
    "    zoom_range=0.2,\n",
    "    horizontal_flip=True\n",
    ")"
   ]
  },
  {
   "cell_type": "code",
   "execution_count": null,
   "id": "cb74cfc2-e9f7-4513-9d0c-9b2883995dba",
   "metadata": {},
   "outputs": [],
   "source": [
    "validation_datagen = ImageDataGenerator(rescale=1.0/255.0)\n",
    "test_datagen = ImageDataGenerator(rescale=1.0/255.0)"
   ]
  },
  {
   "cell_type": "code",
   "execution_count": null,
   "id": "01ac152b-90f3-4d55-9590-c9071e3196b0",
   "metadata": {},
   "outputs": [],
   "source": [
    "train_generator = train_datagen.flow_from_directory(\n",
    "    \"flower_dataset/train\",  # Change this to your dataset folder path\n",
    "    target_size=(224, 224),\n",
    "    batch_size=8,\n",
    "    class_mode=\"categorical\"\n",
    ")"
   ]
  },
  {
   "cell_type": "code",
   "execution_count": null,
   "id": "eabfc898-daea-4272-b0aa-fd2528dc3b22",
   "metadata": {},
   "outputs": [],
   "source": [
    "val_generator = validation_datagen.flow_from_directory(\n",
    "    \"flower_dataset/validation\",  \n",
    "    target_size=(224, 224),\n",
    "    batch_size=8,\n",
    "    class_mode=\"categorical\"\n",
    ")\n"
   ]
  },
  {
   "cell_type": "code",
   "execution_count": null,
   "id": "7b961127-dcc0-40fa-815d-db39bab609dc",
   "metadata": {},
   "outputs": [],
   "source": [
    "test_set = validation_datagen.flow_from_directory('flower_dataset/test',\n",
    "                                            target_size = (224, 224),\n",
    "                                            batch_size = 8,\n",
    "                                            class_mode = 'categorical')"
   ]
  },
  {
   "cell_type": "code",
   "execution_count": null,
   "id": "ba7c22e0-36fa-4cad-8810-f0c3293ce4a0",
   "metadata": {},
   "outputs": [],
   "source": [
    "# Now time to Train the model\n",
    "history = model.fit(\n",
    "    train_generator,\n",
    "    validation_data=val_generator,\n",
    "    epochs=50,\n",
    "    verbose=1\n",
    ")"
   ]
  },
  {
   "cell_type": "code",
   "execution_count": null,
   "id": "0a080c24-9cb6-41c1-9ee3-e4cc09c88cb2",
   "metadata": {},
   "outputs": [],
   "source": [
    "print(model.summary())"
   ]
  },
  {
   "cell_type": "code",
   "execution_count": null,
   "id": "e2aa14bd-1e89-4691-836b-ac8da949bd9a",
   "metadata": {},
   "outputs": [],
   "source": [
    "test_loss, test_acc = model.evaluate(test_set)\n",
    "print(f\"Test Accuracy: {test_acc:.4f}\")\n",
    "print(f\"Test Loss: {test_loss:.4f}\")"
   ]
  },
  {
   "cell_type": "code",
   "execution_count": null,
   "id": "1300c4be-dc43-4d95-871d-669d1472abe1",
   "metadata": {},
   "outputs": [],
   "source": [
    "print(history.history.keys())"
   ]
  },
  {
   "cell_type": "code",
   "execution_count": null,
   "id": "a762f8a2-b87c-4870-a869-833e188eaee4",
   "metadata": {},
   "outputs": [],
   "source": [
    "plt.figure(1, figsize = (10,4))  \n",
    "plt.plot(history.history['accuracy']) \n",
    "plt.plot(history.history['val_accuracy'])  \n",
    "plt.title('Model accuracy')  \n",
    "plt.ylabel('accuracy')  \n",
    "plt.xlabel('epoch')  \n",
    "plt.legend(['train', 'valid'])"
   ]
  },
  {
   "cell_type": "code",
   "execution_count": null,
   "id": "42023628-de97-4615-9bee-57d22707cbff",
   "metadata": {},
   "outputs": [],
   "source": [
    "plt.figure(1, figsize = (10,4)) \n",
    "plt.plot(history.history['loss'])  \n",
    "plt.plot(history.history['val_loss'])  \n",
    "plt.title('Model loss')  \n",
    "plt.ylabel('loss')  \n",
    "plt.xlabel('epoch')  \n",
    "plt.legend(['train', 'valid']) \n",
    "plt.show()"
   ]
  },
  {
   "cell_type": "code",
   "execution_count": null,
   "id": "5934f83f-646c-42ac-b545-9947ac0c5380",
   "metadata": {},
   "outputs": [],
   "source": [
    "# Saving the model\n",
    "model.save(\"ResNet101_multi-class_classifier.keras\")"
   ]
  },
  {
   "cell_type": "code",
   "execution_count": null,
   "id": "b335afd8-dbe8-4f01-b70b-477b06d48614",
   "metadata": {},
   "outputs": [],
   "source": [
    "# Load the model from file\n",
    "from keras.models import load_model\n",
    "saved_model = load_model(\"ResNet101_multi-class_classifier.keras\")\n"
   ]
  },
  {
   "cell_type": "code",
   "execution_count": null,
   "id": "18181dce-5e2e-4ce9-98f4-180e44eab557",
   "metadata": {},
   "outputs": [],
   "source": [
    "from tensorflow.keras.preprocessing import image\n",
    "img1 = image.load_img('flower_dataset/testing/image_1.jpg', target_size=(224, 224))\n",
    "img = image.img_to_array(img1) / 255.0\n",
    "img = np.expand_dims(img, axis=0)\n",
    "\n",
    "prediction = saved_model.predict(img)\n",
    "class_idx = np.argmax(prediction, axis=1)[0]\n",
    "\n",
    "# Get the predicted class label (assuming you have a list of class names)\n",
    "class_names = ['Daisy', 'Dandelion', 'Roses', 'Sunflowers', 'Tulips'] \n",
    "predicted_class = class_names[class_idx]\n",
    "\n",
    "# Print the predicted class with its probability\n",
    "confidence = prediction[0, class_idx]\n",
    "value = f\"{predicted_class}: {confidence:.2f}\"\n",
    "\n",
    "# Display the image with prediction text\n",
    "plt.imshow(img1)\n",
    "plt.text(20, 62, value, color='red', fontsize=18, bbox=dict(facecolor='white', alpha=0.8))\n",
    "plt.show()"
   ]
  },
  {
   "cell_type": "code",
   "execution_count": null,
   "id": "5bb170fa-b298-49e9-80ab-9cc5b10b03af",
   "metadata": {},
   "outputs": [],
   "source": [
    "import time\n",
    "import sys\n",
    "\n",
    "def fancy_print(text, delay=0.05):\n",
    "    for char in text:\n",
    "        sys.stdout.write(char)\n",
    "        sys.stdout.flush()\n",
    "        time.sleep(delay)\n",
    "    print()  # New line\n",
    "\n",
    "fancy_print(\"🌟 Thank you for watching this video! 🌟\", 0.07)\n",
    "fancy_print(\"👍 Please like, ❤️ share, and 🔔 subscribe! 🚀\", 0.07)"
   ]
  },
  {
   "cell_type": "code",
   "execution_count": null,
   "id": "12ba6e07-bead-4b01-8bc0-43643f0b3f25",
   "metadata": {},
   "outputs": [],
   "source": []
  },
  {
   "cell_type": "code",
   "execution_count": null,
   "id": "e604e068-f4cb-47e6-85a1-e5a2d10f7c36",
   "metadata": {},
   "outputs": [],
   "source": []
  },
  {
   "cell_type": "code",
   "execution_count": null,
   "id": "2a97c283-4997-495a-8c29-78c8abe3b177",
   "metadata": {},
   "outputs": [],
   "source": []
  }
 ],
 "metadata": {
  "kernelspec": {
   "display_name": "Python 3 (ipykernel)",
   "language": "python",
   "name": "python3"
  },
  "language_info": {
   "codemirror_mode": {
    "name": "ipython",
    "version": 3
   },
   "file_extension": ".py",
   "mimetype": "text/x-python",
   "name": "python",
   "nbconvert_exporter": "python",
   "pygments_lexer": "ipython3",
   "version": "3.9.21"
  }
 },
 "nbformat": 4,
 "nbformat_minor": 5
}
